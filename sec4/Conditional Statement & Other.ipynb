{
 "cells": [
  {
   "cell_type": "code",
   "execution_count": 5,
   "metadata": {},
   "outputs": [
    {
     "name": "stdout",
     "output_type": "stream",
     "text": [
      "সারা বিশ্বের সেরা\n",
      "ধন্যবাদ\n"
     ]
    }
   ],
   "source": [
    "x =34 \n",
    "if x <=26:\n",
    "    print(\"আমার সোনার বাংলা\")\n",
    "else:\n",
    "    print(\"সারা বিশ্বের সেরা\")\n",
    "print(\"ধন্যবাদ\")    "
   ]
  },
  {
   "cell_type": "code",
   "execution_count": 9,
   "metadata": {},
   "outputs": [
    {
     "name": "stdout",
     "output_type": "stream",
     "text": [
      "স্বাধীন বাংলা\n",
      "জয় বাংলা\n"
     ]
    }
   ],
   "source": [
    "freedom = 1971\n",
    "if freedom < 1971:\n",
    "    print(\"পাকিস্তান\")\n",
    "elif freedom == 1971:\n",
    "    print(\"স্বাধীন বাংলা\")\n",
    "print(\"জয় বাংলা\")    "
   ]
  },
  {
   "cell_type": "code",
   "execution_count": null,
   "metadata": {},
   "outputs": [],
   "source": []
  }
 ],
 "metadata": {
  "kernelspec": {
   "display_name": "Python 3",
   "language": "python",
   "name": "python3"
  },
  "language_info": {
   "codemirror_mode": {
    "name": "ipython",
    "version": 3
   },
   "file_extension": ".py",
   "mimetype": "text/x-python",
   "name": "python",
   "nbconvert_exporter": "python",
   "pygments_lexer": "ipython3",
   "version": "3.8.3"
  }
 },
 "nbformat": 4,
 "nbformat_minor": 4
}
